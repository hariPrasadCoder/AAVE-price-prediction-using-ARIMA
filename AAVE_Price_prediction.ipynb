{
  "nbformat": 4,
  "nbformat_minor": 0,
  "metadata": {
    "accelerator": "GPU",
    "colab": {
      "name": "AAVE Price prediction.ipynb",
      "provenance": [],
      "authorship_tag": "ABX9TyNhfQMoijEo7K+/DEfjs0AJ",
      "include_colab_link": true
    },
    "kernelspec": {
      "display_name": "Python 3",
      "name": "python3"
    },
    "language_info": {
      "name": "python"
    }
  },
  "cells": [
    {
      "cell_type": "markdown",
      "metadata": {
        "id": "view-in-github",
        "colab_type": "text"
      },
      "source": [
        "<a href=\"https://colab.research.google.com/github/hariPrasadCoder/AAVE-price-prediction-using-ARIMA/blob/main/AAVE_Price_prediction.ipynb\" target=\"_parent\"><img src=\"https://colab.research.google.com/assets/colab-badge.svg\" alt=\"Open In Colab\"/></a>"
      ]
    },
    {
      "cell_type": "markdown",
      "metadata": {
        "id": "xHpkxZ15tc3h"
      },
      "source": [
        "# AAVE PRICE FORECASTING USING ARIMA MODEL:"
      ]
    },
    {
      "cell_type": "markdown",
      "metadata": {
        "id": "eUM9hTvp3HON"
      },
      "source": [
        "## Importing necessary basic libraries:"
      ]
    },
    {
      "cell_type": "code",
      "metadata": {
        "id": "6shR-iaMxRAJ"
      },
      "source": [
        "import numpy as np\n",
        "import pandas as pd\n",
        "import matplotlib.pyplot as plt\n",
        "%matplotlib inline\n",
        "from sklearn.metrics import mean_squared_error\n",
        "from math import sqrt"
      ],
      "execution_count": 4,
      "outputs": []
    },
    {
      "cell_type": "markdown",
      "metadata": {
        "id": "NhdI25Qe3Oh2"
      },
      "source": [
        "## Reading the dataset:"
      ]
    },
    {
      "cell_type": "code",
      "metadata": {
        "colab": {
          "base_uri": "https://localhost:8080/",
          "height": 206
        },
        "id": "IBQiceo4x9HC",
        "outputId": "ae271a4d-f113-4dce-8d4e-9facc1e937c3"
      },
      "source": [
        "df = pd.read_csv('Aave Historical Data - Investing.com.csv')\n",
        "df.head()"
      ],
      "execution_count": 5,
      "outputs": [
        {
          "output_type": "execute_result",
          "data": {
            "text/html": [
              "\n",
              "  <div id=\"df-d8dc7159-556e-4dd8-8b1a-589f30ee1964\">\n",
              "    <div class=\"colab-df-container\">\n",
              "      <div>\n",
              "<style scoped>\n",
              "    .dataframe tbody tr th:only-of-type {\n",
              "        vertical-align: middle;\n",
              "    }\n",
              "\n",
              "    .dataframe tbody tr th {\n",
              "        vertical-align: top;\n",
              "    }\n",
              "\n",
              "    .dataframe thead th {\n",
              "        text-align: right;\n",
              "    }\n",
              "</style>\n",
              "<table border=\"1\" class=\"dataframe\">\n",
              "  <thead>\n",
              "    <tr style=\"text-align: right;\">\n",
              "      <th></th>\n",
              "      <th>Date</th>\n",
              "      <th>Price</th>\n",
              "      <th>Open</th>\n",
              "      <th>High</th>\n",
              "      <th>Low</th>\n",
              "      <th>Vol.</th>\n",
              "      <th>Change %</th>\n",
              "    </tr>\n",
              "  </thead>\n",
              "  <tbody>\n",
              "    <tr>\n",
              "      <th>0</th>\n",
              "      <td>Feb 13, 2022</td>\n",
              "      <td>158.20</td>\n",
              "      <td>162.15</td>\n",
              "      <td>165.21</td>\n",
              "      <td>155.82</td>\n",
              "      <td>48.69K</td>\n",
              "      <td>-2.41%</td>\n",
              "    </tr>\n",
              "    <tr>\n",
              "      <th>1</th>\n",
              "      <td>Feb 12, 2022</td>\n",
              "      <td>162.11</td>\n",
              "      <td>163.43</td>\n",
              "      <td>168.59</td>\n",
              "      <td>160.18</td>\n",
              "      <td>72.76K</td>\n",
              "      <td>-0.77%</td>\n",
              "    </tr>\n",
              "    <tr>\n",
              "      <th>2</th>\n",
              "      <td>Feb 11, 2022</td>\n",
              "      <td>163.37</td>\n",
              "      <td>175.38</td>\n",
              "      <td>181.02</td>\n",
              "      <td>160.46</td>\n",
              "      <td>100.78K</td>\n",
              "      <td>-6.85%</td>\n",
              "    </tr>\n",
              "    <tr>\n",
              "      <th>3</th>\n",
              "      <td>Feb 10, 2022</td>\n",
              "      <td>175.38</td>\n",
              "      <td>187.88</td>\n",
              "      <td>188.80</td>\n",
              "      <td>175.08</td>\n",
              "      <td>129.26K</td>\n",
              "      <td>-6.66%</td>\n",
              "    </tr>\n",
              "    <tr>\n",
              "      <th>4</th>\n",
              "      <td>Feb 09, 2022</td>\n",
              "      <td>187.88</td>\n",
              "      <td>183.73</td>\n",
              "      <td>190.58</td>\n",
              "      <td>176.38</td>\n",
              "      <td>107.50K</td>\n",
              "      <td>2.27%</td>\n",
              "    </tr>\n",
              "  </tbody>\n",
              "</table>\n",
              "</div>\n",
              "      <button class=\"colab-df-convert\" onclick=\"convertToInteractive('df-d8dc7159-556e-4dd8-8b1a-589f30ee1964')\"\n",
              "              title=\"Convert this dataframe to an interactive table.\"\n",
              "              style=\"display:none;\">\n",
              "        \n",
              "  <svg xmlns=\"http://www.w3.org/2000/svg\" height=\"24px\"viewBox=\"0 0 24 24\"\n",
              "       width=\"24px\">\n",
              "    <path d=\"M0 0h24v24H0V0z\" fill=\"none\"/>\n",
              "    <path d=\"M18.56 5.44l.94 2.06.94-2.06 2.06-.94-2.06-.94-.94-2.06-.94 2.06-2.06.94zm-11 1L8.5 8.5l.94-2.06 2.06-.94-2.06-.94L8.5 2.5l-.94 2.06-2.06.94zm10 10l.94 2.06.94-2.06 2.06-.94-2.06-.94-.94-2.06-.94 2.06-2.06.94z\"/><path d=\"M17.41 7.96l-1.37-1.37c-.4-.4-.92-.59-1.43-.59-.52 0-1.04.2-1.43.59L10.3 9.45l-7.72 7.72c-.78.78-.78 2.05 0 2.83L4 21.41c.39.39.9.59 1.41.59.51 0 1.02-.2 1.41-.59l7.78-7.78 2.81-2.81c.8-.78.8-2.07 0-2.86zM5.41 20L4 18.59l7.72-7.72 1.47 1.35L5.41 20z\"/>\n",
              "  </svg>\n",
              "      </button>\n",
              "      \n",
              "  <style>\n",
              "    .colab-df-container {\n",
              "      display:flex;\n",
              "      flex-wrap:wrap;\n",
              "      gap: 12px;\n",
              "    }\n",
              "\n",
              "    .colab-df-convert {\n",
              "      background-color: #E8F0FE;\n",
              "      border: none;\n",
              "      border-radius: 50%;\n",
              "      cursor: pointer;\n",
              "      display: none;\n",
              "      fill: #1967D2;\n",
              "      height: 32px;\n",
              "      padding: 0 0 0 0;\n",
              "      width: 32px;\n",
              "    }\n",
              "\n",
              "    .colab-df-convert:hover {\n",
              "      background-color: #E2EBFA;\n",
              "      box-shadow: 0px 1px 2px rgba(60, 64, 67, 0.3), 0px 1px 3px 1px rgba(60, 64, 67, 0.15);\n",
              "      fill: #174EA6;\n",
              "    }\n",
              "\n",
              "    [theme=dark] .colab-df-convert {\n",
              "      background-color: #3B4455;\n",
              "      fill: #D2E3FC;\n",
              "    }\n",
              "\n",
              "    [theme=dark] .colab-df-convert:hover {\n",
              "      background-color: #434B5C;\n",
              "      box-shadow: 0px 1px 3px 1px rgba(0, 0, 0, 0.15);\n",
              "      filter: drop-shadow(0px 1px 2px rgba(0, 0, 0, 0.3));\n",
              "      fill: #FFFFFF;\n",
              "    }\n",
              "  </style>\n",
              "\n",
              "      <script>\n",
              "        const buttonEl =\n",
              "          document.querySelector('#df-d8dc7159-556e-4dd8-8b1a-589f30ee1964 button.colab-df-convert');\n",
              "        buttonEl.style.display =\n",
              "          google.colab.kernel.accessAllowed ? 'block' : 'none';\n",
              "\n",
              "        async function convertToInteractive(key) {\n",
              "          const element = document.querySelector('#df-d8dc7159-556e-4dd8-8b1a-589f30ee1964');\n",
              "          const dataTable =\n",
              "            await google.colab.kernel.invokeFunction('convertToInteractive',\n",
              "                                                     [key], {});\n",
              "          if (!dataTable) return;\n",
              "\n",
              "          const docLinkHtml = 'Like what you see? Visit the ' +\n",
              "            '<a target=\"_blank\" href=https://colab.research.google.com/notebooks/data_table.ipynb>data table notebook</a>'\n",
              "            + ' to learn more about interactive tables.';\n",
              "          element.innerHTML = '';\n",
              "          dataTable['output_type'] = 'display_data';\n",
              "          await google.colab.output.renderOutput(dataTable, element);\n",
              "          const docLink = document.createElement('div');\n",
              "          docLink.innerHTML = docLinkHtml;\n",
              "          element.appendChild(docLink);\n",
              "        }\n",
              "      </script>\n",
              "    </div>\n",
              "  </div>\n",
              "  "
            ],
            "text/plain": [
              "           Date   Price    Open    High     Low     Vol. Change %\n",
              "0  Feb 13, 2022  158.20  162.15  165.21  155.82   48.69K   -2.41%\n",
              "1  Feb 12, 2022  162.11  163.43  168.59  160.18   72.76K   -0.77%\n",
              "2  Feb 11, 2022  163.37  175.38  181.02  160.46  100.78K   -6.85%\n",
              "3  Feb 10, 2022  175.38  187.88  188.80  175.08  129.26K   -6.66%\n",
              "4  Feb 09, 2022  187.88  183.73  190.58  176.38  107.50K    2.27%"
            ]
          },
          "metadata": {},
          "execution_count": 5
        }
      ]
    },
    {
      "cell_type": "markdown",
      "metadata": {
        "id": "pX_HnOC5tnL6"
      },
      "source": [
        "## Considering only the \"date\" and \"Price\" features for further steps:"
      ]
    },
    {
      "cell_type": "code",
      "metadata": {
        "colab": {
          "base_uri": "https://localhost:8080/",
          "height": 206
        },
        "id": "lgXY06n3z1wC",
        "outputId": "37cb0275-a5a6-47f4-b060-493f86fd7199"
      },
      "source": [
        "df = df[['Date','Price']]\n",
        "df.head()"
      ],
      "execution_count": 6,
      "outputs": [
        {
          "output_type": "execute_result",
          "data": {
            "text/html": [
              "\n",
              "  <div id=\"df-3c8fbaf0-3a51-441c-83bf-51b92211ec1e\">\n",
              "    <div class=\"colab-df-container\">\n",
              "      <div>\n",
              "<style scoped>\n",
              "    .dataframe tbody tr th:only-of-type {\n",
              "        vertical-align: middle;\n",
              "    }\n",
              "\n",
              "    .dataframe tbody tr th {\n",
              "        vertical-align: top;\n",
              "    }\n",
              "\n",
              "    .dataframe thead th {\n",
              "        text-align: right;\n",
              "    }\n",
              "</style>\n",
              "<table border=\"1\" class=\"dataframe\">\n",
              "  <thead>\n",
              "    <tr style=\"text-align: right;\">\n",
              "      <th></th>\n",
              "      <th>Date</th>\n",
              "      <th>Price</th>\n",
              "    </tr>\n",
              "  </thead>\n",
              "  <tbody>\n",
              "    <tr>\n",
              "      <th>0</th>\n",
              "      <td>Feb 13, 2022</td>\n",
              "      <td>158.20</td>\n",
              "    </tr>\n",
              "    <tr>\n",
              "      <th>1</th>\n",
              "      <td>Feb 12, 2022</td>\n",
              "      <td>162.11</td>\n",
              "    </tr>\n",
              "    <tr>\n",
              "      <th>2</th>\n",
              "      <td>Feb 11, 2022</td>\n",
              "      <td>163.37</td>\n",
              "    </tr>\n",
              "    <tr>\n",
              "      <th>3</th>\n",
              "      <td>Feb 10, 2022</td>\n",
              "      <td>175.38</td>\n",
              "    </tr>\n",
              "    <tr>\n",
              "      <th>4</th>\n",
              "      <td>Feb 09, 2022</td>\n",
              "      <td>187.88</td>\n",
              "    </tr>\n",
              "  </tbody>\n",
              "</table>\n",
              "</div>\n",
              "      <button class=\"colab-df-convert\" onclick=\"convertToInteractive('df-3c8fbaf0-3a51-441c-83bf-51b92211ec1e')\"\n",
              "              title=\"Convert this dataframe to an interactive table.\"\n",
              "              style=\"display:none;\">\n",
              "        \n",
              "  <svg xmlns=\"http://www.w3.org/2000/svg\" height=\"24px\"viewBox=\"0 0 24 24\"\n",
              "       width=\"24px\">\n",
              "    <path d=\"M0 0h24v24H0V0z\" fill=\"none\"/>\n",
              "    <path d=\"M18.56 5.44l.94 2.06.94-2.06 2.06-.94-2.06-.94-.94-2.06-.94 2.06-2.06.94zm-11 1L8.5 8.5l.94-2.06 2.06-.94-2.06-.94L8.5 2.5l-.94 2.06-2.06.94zm10 10l.94 2.06.94-2.06 2.06-.94-2.06-.94-.94-2.06-.94 2.06-2.06.94z\"/><path d=\"M17.41 7.96l-1.37-1.37c-.4-.4-.92-.59-1.43-.59-.52 0-1.04.2-1.43.59L10.3 9.45l-7.72 7.72c-.78.78-.78 2.05 0 2.83L4 21.41c.39.39.9.59 1.41.59.51 0 1.02-.2 1.41-.59l7.78-7.78 2.81-2.81c.8-.78.8-2.07 0-2.86zM5.41 20L4 18.59l7.72-7.72 1.47 1.35L5.41 20z\"/>\n",
              "  </svg>\n",
              "      </button>\n",
              "      \n",
              "  <style>\n",
              "    .colab-df-container {\n",
              "      display:flex;\n",
              "      flex-wrap:wrap;\n",
              "      gap: 12px;\n",
              "    }\n",
              "\n",
              "    .colab-df-convert {\n",
              "      background-color: #E8F0FE;\n",
              "      border: none;\n",
              "      border-radius: 50%;\n",
              "      cursor: pointer;\n",
              "      display: none;\n",
              "      fill: #1967D2;\n",
              "      height: 32px;\n",
              "      padding: 0 0 0 0;\n",
              "      width: 32px;\n",
              "    }\n",
              "\n",
              "    .colab-df-convert:hover {\n",
              "      background-color: #E2EBFA;\n",
              "      box-shadow: 0px 1px 2px rgba(60, 64, 67, 0.3), 0px 1px 3px 1px rgba(60, 64, 67, 0.15);\n",
              "      fill: #174EA6;\n",
              "    }\n",
              "\n",
              "    [theme=dark] .colab-df-convert {\n",
              "      background-color: #3B4455;\n",
              "      fill: #D2E3FC;\n",
              "    }\n",
              "\n",
              "    [theme=dark] .colab-df-convert:hover {\n",
              "      background-color: #434B5C;\n",
              "      box-shadow: 0px 1px 3px 1px rgba(0, 0, 0, 0.15);\n",
              "      filter: drop-shadow(0px 1px 2px rgba(0, 0, 0, 0.3));\n",
              "      fill: #FFFFFF;\n",
              "    }\n",
              "  </style>\n",
              "\n",
              "      <script>\n",
              "        const buttonEl =\n",
              "          document.querySelector('#df-3c8fbaf0-3a51-441c-83bf-51b92211ec1e button.colab-df-convert');\n",
              "        buttonEl.style.display =\n",
              "          google.colab.kernel.accessAllowed ? 'block' : 'none';\n",
              "\n",
              "        async function convertToInteractive(key) {\n",
              "          const element = document.querySelector('#df-3c8fbaf0-3a51-441c-83bf-51b92211ec1e');\n",
              "          const dataTable =\n",
              "            await google.colab.kernel.invokeFunction('convertToInteractive',\n",
              "                                                     [key], {});\n",
              "          if (!dataTable) return;\n",
              "\n",
              "          const docLinkHtml = 'Like what you see? Visit the ' +\n",
              "            '<a target=\"_blank\" href=https://colab.research.google.com/notebooks/data_table.ipynb>data table notebook</a>'\n",
              "            + ' to learn more about interactive tables.';\n",
              "          element.innerHTML = '';\n",
              "          dataTable['output_type'] = 'display_data';\n",
              "          await google.colab.output.renderOutput(dataTable, element);\n",
              "          const docLink = document.createElement('div');\n",
              "          docLink.innerHTML = docLinkHtml;\n",
              "          element.appendChild(docLink);\n",
              "        }\n",
              "      </script>\n",
              "    </div>\n",
              "  </div>\n",
              "  "
            ],
            "text/plain": [
              "           Date   Price\n",
              "0  Feb 13, 2022  158.20\n",
              "1  Feb 12, 2022  162.11\n",
              "2  Feb 11, 2022  163.37\n",
              "3  Feb 10, 2022  175.38\n",
              "4  Feb 09, 2022  187.88"
            ]
          },
          "metadata": {},
          "execution_count": 6
        }
      ]
    },
    {
      "cell_type": "code",
      "source": [
        "df['Date'] = pd.to_datetime(df['Date'])\n",
        "df.info()"
      ],
      "metadata": {
        "colab": {
          "base_uri": "https://localhost:8080/"
        },
        "id": "u-1YdK0ygDiU",
        "outputId": "2b129e09-f489-4b62-e723-293bb499a193"
      },
      "execution_count": 7,
      "outputs": [
        {
          "output_type": "stream",
          "name": "stdout",
          "text": [
            "<class 'pandas.core.frame.DataFrame'>\n",
            "RangeIndex: 466 entries, 0 to 465\n",
            "Data columns (total 2 columns):\n",
            " #   Column  Non-Null Count  Dtype         \n",
            "---  ------  --------------  -----         \n",
            " 0   Date    466 non-null    datetime64[ns]\n",
            " 1   Price   466 non-null    float64       \n",
            "dtypes: datetime64[ns](1), float64(1)\n",
            "memory usage: 7.4 KB\n"
          ]
        }
      ]
    },
    {
      "cell_type": "code",
      "source": [
        "df = df.sort_values(by=['Date'])"
      ],
      "metadata": {
        "id": "KzEbhT60gG0d"
      },
      "execution_count": 8,
      "outputs": []
    },
    {
      "cell_type": "markdown",
      "metadata": {
        "id": "aOAoB8-tt2E4"
      },
      "source": [
        "## Setting the \"date\" column as an index:"
      ]
    },
    {
      "cell_type": "code",
      "metadata": {
        "id": "yI4t-VeH1HPX"
      },
      "source": [
        "df = df.set_index('Date')"
      ],
      "execution_count": 9,
      "outputs": []
    },
    {
      "cell_type": "code",
      "metadata": {
        "colab": {
          "base_uri": "https://localhost:8080/",
          "height": 238
        },
        "id": "vSMqiRmi1J5N",
        "outputId": "fb07a041-ccbf-4881-9751-44c04b0a79a1"
      },
      "source": [
        "df.head()"
      ],
      "execution_count": 10,
      "outputs": [
        {
          "output_type": "execute_result",
          "data": {
            "text/html": [
              "\n",
              "  <div id=\"df-1e799393-1d42-4012-936a-85d21627a656\">\n",
              "    <div class=\"colab-df-container\">\n",
              "      <div>\n",
              "<style scoped>\n",
              "    .dataframe tbody tr th:only-of-type {\n",
              "        vertical-align: middle;\n",
              "    }\n",
              "\n",
              "    .dataframe tbody tr th {\n",
              "        vertical-align: top;\n",
              "    }\n",
              "\n",
              "    .dataframe thead th {\n",
              "        text-align: right;\n",
              "    }\n",
              "</style>\n",
              "<table border=\"1\" class=\"dataframe\">\n",
              "  <thead>\n",
              "    <tr style=\"text-align: right;\">\n",
              "      <th></th>\n",
              "      <th>Price</th>\n",
              "    </tr>\n",
              "    <tr>\n",
              "      <th>Date</th>\n",
              "      <th></th>\n",
              "    </tr>\n",
              "  </thead>\n",
              "  <tbody>\n",
              "    <tr>\n",
              "      <th>2020-11-05</th>\n",
              "      <td>30.84</td>\n",
              "    </tr>\n",
              "    <tr>\n",
              "      <th>2020-11-06</th>\n",
              "      <td>38.71</td>\n",
              "    </tr>\n",
              "    <tr>\n",
              "      <th>2020-11-07</th>\n",
              "      <td>44.41</td>\n",
              "    </tr>\n",
              "    <tr>\n",
              "      <th>2020-11-08</th>\n",
              "      <td>53.72</td>\n",
              "    </tr>\n",
              "    <tr>\n",
              "      <th>2020-11-09</th>\n",
              "      <td>55.32</td>\n",
              "    </tr>\n",
              "  </tbody>\n",
              "</table>\n",
              "</div>\n",
              "      <button class=\"colab-df-convert\" onclick=\"convertToInteractive('df-1e799393-1d42-4012-936a-85d21627a656')\"\n",
              "              title=\"Convert this dataframe to an interactive table.\"\n",
              "              style=\"display:none;\">\n",
              "        \n",
              "  <svg xmlns=\"http://www.w3.org/2000/svg\" height=\"24px\"viewBox=\"0 0 24 24\"\n",
              "       width=\"24px\">\n",
              "    <path d=\"M0 0h24v24H0V0z\" fill=\"none\"/>\n",
              "    <path d=\"M18.56 5.44l.94 2.06.94-2.06 2.06-.94-2.06-.94-.94-2.06-.94 2.06-2.06.94zm-11 1L8.5 8.5l.94-2.06 2.06-.94-2.06-.94L8.5 2.5l-.94 2.06-2.06.94zm10 10l.94 2.06.94-2.06 2.06-.94-2.06-.94-.94-2.06-.94 2.06-2.06.94z\"/><path d=\"M17.41 7.96l-1.37-1.37c-.4-.4-.92-.59-1.43-.59-.52 0-1.04.2-1.43.59L10.3 9.45l-7.72 7.72c-.78.78-.78 2.05 0 2.83L4 21.41c.39.39.9.59 1.41.59.51 0 1.02-.2 1.41-.59l7.78-7.78 2.81-2.81c.8-.78.8-2.07 0-2.86zM5.41 20L4 18.59l7.72-7.72 1.47 1.35L5.41 20z\"/>\n",
              "  </svg>\n",
              "      </button>\n",
              "      \n",
              "  <style>\n",
              "    .colab-df-container {\n",
              "      display:flex;\n",
              "      flex-wrap:wrap;\n",
              "      gap: 12px;\n",
              "    }\n",
              "\n",
              "    .colab-df-convert {\n",
              "      background-color: #E8F0FE;\n",
              "      border: none;\n",
              "      border-radius: 50%;\n",
              "      cursor: pointer;\n",
              "      display: none;\n",
              "      fill: #1967D2;\n",
              "      height: 32px;\n",
              "      padding: 0 0 0 0;\n",
              "      width: 32px;\n",
              "    }\n",
              "\n",
              "    .colab-df-convert:hover {\n",
              "      background-color: #E2EBFA;\n",
              "      box-shadow: 0px 1px 2px rgba(60, 64, 67, 0.3), 0px 1px 3px 1px rgba(60, 64, 67, 0.15);\n",
              "      fill: #174EA6;\n",
              "    }\n",
              "\n",
              "    [theme=dark] .colab-df-convert {\n",
              "      background-color: #3B4455;\n",
              "      fill: #D2E3FC;\n",
              "    }\n",
              "\n",
              "    [theme=dark] .colab-df-convert:hover {\n",
              "      background-color: #434B5C;\n",
              "      box-shadow: 0px 1px 3px 1px rgba(0, 0, 0, 0.15);\n",
              "      filter: drop-shadow(0px 1px 2px rgba(0, 0, 0, 0.3));\n",
              "      fill: #FFFFFF;\n",
              "    }\n",
              "  </style>\n",
              "\n",
              "      <script>\n",
              "        const buttonEl =\n",
              "          document.querySelector('#df-1e799393-1d42-4012-936a-85d21627a656 button.colab-df-convert');\n",
              "        buttonEl.style.display =\n",
              "          google.colab.kernel.accessAllowed ? 'block' : 'none';\n",
              "\n",
              "        async function convertToInteractive(key) {\n",
              "          const element = document.querySelector('#df-1e799393-1d42-4012-936a-85d21627a656');\n",
              "          const dataTable =\n",
              "            await google.colab.kernel.invokeFunction('convertToInteractive',\n",
              "                                                     [key], {});\n",
              "          if (!dataTable) return;\n",
              "\n",
              "          const docLinkHtml = 'Like what you see? Visit the ' +\n",
              "            '<a target=\"_blank\" href=https://colab.research.google.com/notebooks/data_table.ipynb>data table notebook</a>'\n",
              "            + ' to learn more about interactive tables.';\n",
              "          element.innerHTML = '';\n",
              "          dataTable['output_type'] = 'display_data';\n",
              "          await google.colab.output.renderOutput(dataTable, element);\n",
              "          const docLink = document.createElement('div');\n",
              "          docLink.innerHTML = docLinkHtml;\n",
              "          element.appendChild(docLink);\n",
              "        }\n",
              "      </script>\n",
              "    </div>\n",
              "  </div>\n",
              "  "
            ],
            "text/plain": [
              "            Price\n",
              "Date             \n",
              "2020-11-05  30.84\n",
              "2020-11-06  38.71\n",
              "2020-11-07  44.41\n",
              "2020-11-08  53.72\n",
              "2020-11-09  55.32"
            ]
          },
          "metadata": {},
          "execution_count": 10
        }
      ]
    },
    {
      "cell_type": "markdown",
      "metadata": {
        "id": "Cm5lPWhtt8cK"
      },
      "source": [
        "## Converting DataFrame to Series:"
      ]
    },
    {
      "cell_type": "code",
      "metadata": {
        "colab": {
          "base_uri": "https://localhost:8080/"
        },
        "id": "XJka0AGO1LdQ",
        "outputId": "86288f93-24be-4998-c793-c91772f1ece7"
      },
      "source": [
        "df = df.squeeze()\n",
        "df"
      ],
      "execution_count": 11,
      "outputs": [
        {
          "output_type": "execute_result",
          "data": {
            "text/plain": [
              "Date\n",
              "2020-11-05     30.84\n",
              "2020-11-06     38.71\n",
              "2020-11-07     44.41\n",
              "2020-11-08     53.72\n",
              "2020-11-09     55.32\n",
              "               ...  \n",
              "2022-02-09    187.88\n",
              "2022-02-10    175.38\n",
              "2022-02-11    163.37\n",
              "2022-02-12    162.11\n",
              "2022-02-13    158.20\n",
              "Name: Price, Length: 466, dtype: float64"
            ]
          },
          "metadata": {},
          "execution_count": 11
        }
      ]
    },
    {
      "cell_type": "markdown",
      "metadata": {
        "id": "3L9fcN8buAnj"
      },
      "source": [
        "## Splitting the dataset to train and validation, and saving it as separate csv files:"
      ]
    },
    {
      "cell_type": "code",
      "metadata": {
        "colab": {
          "base_uri": "https://localhost:8080/"
        },
        "id": "F29yb2dS18Zr",
        "outputId": "034ffe44-d0c4-47f5-f172-c847c72db9db"
      },
      "source": [
        "split_point = len(df) - 5\n",
        "dataset, validation = df[0:split_point], df[split_point:]\n",
        "print('Dataset %d, Validation %d' % (len(dataset), len(validation)))\n",
        "dataset.to_csv('aave_dataset_final.csv', header=False)\n",
        "validation.to_csv('aave_validation.csv', header=False)"
      ],
      "execution_count": 13,
      "outputs": [
        {
          "output_type": "stream",
          "name": "stdout",
          "text": [
            "Dataset 461, Validation 5\n"
          ]
        }
      ]
    },
    {
      "cell_type": "markdown",
      "metadata": {
        "id": "48rS7HQCuPCD"
      },
      "source": [
        "## Fitting the model using a baseline model called \"Persistence model\":"
      ]
    },
    {
      "cell_type": "markdown",
      "metadata": {
        "id": "f6WcDP7tuO7R"
      },
      "source": [
        ""
      ]
    },
    {
      "cell_type": "code",
      "metadata": {
        "colab": {
          "base_uri": "https://localhost:8080/"
        },
        "id": "QtPPh34i3h0M",
        "outputId": "1f06fe0a-8e80-427d-b9ba-2fd3897d70ae"
      },
      "source": [
        "# evaluate a persistence model\n",
        "series = pd.read_csv('aave_dataset_final.csv', header=None, index_col=0, parse_dates=True, squeeze=True)\n",
        "# prepare data\n",
        "X = series.values\n",
        "X = X.astype('float32')\n",
        "train_size = int(len(X) * 0.50)\n",
        "train, test = X[0:train_size], X[train_size:]\n",
        "# walk-forward validation\n",
        "history = [x for x in train]\n",
        "predictions = list()\n",
        "for i in range(len(test)):\n",
        "  # predict\n",
        "  yhat = history[-1]\n",
        "  predictions.append(yhat)\n",
        "  # observation\n",
        "  obs = test[i]\n",
        "  history.append(obs)\n",
        "  print('>Predicted=%.3f, Expected=%.3f' % (yhat, obs))\n",
        "# report performance\n",
        "rmse = sqrt(mean_squared_error(test, predictions))\n",
        "print('RMSE: %.3f' % rmse)"
      ],
      "execution_count": 14,
      "outputs": [
        {
          "output_type": "stream",
          "name": "stdout",
          "text": [
            ">Predicted=205.900, Expected=207.880\n",
            ">Predicted=207.880, Expected=211.300\n",
            ">Predicted=211.300, Expected=187.100\n",
            ">Predicted=187.100, Expected=186.960\n",
            ">Predicted=186.960, Expected=203.040\n",
            ">Predicted=203.040, Expected=226.520\n",
            ">Predicted=226.520, Expected=236.610\n",
            ">Predicted=236.610, Expected=250.530\n",
            ">Predicted=250.530, Expected=230.820\n",
            ">Predicted=230.820, Expected=234.230\n",
            ">Predicted=234.230, Expected=261.150\n",
            ">Predicted=261.150, Expected=277.090\n",
            ">Predicted=277.090, Expected=308.630\n",
            ">Predicted=308.630, Expected=316.740\n",
            ">Predicted=316.740, Expected=314.940\n",
            ">Predicted=314.940, Expected=293.120\n",
            ">Predicted=293.120, Expected=303.230\n",
            ">Predicted=303.230, Expected=294.580\n",
            ">Predicted=294.580, Expected=304.490\n",
            ">Predicted=304.490, Expected=297.100\n",
            ">Predicted=297.100, Expected=271.190\n",
            ">Predicted=271.190, Expected=279.420\n",
            ">Predicted=279.420, Expected=271.850\n",
            ">Predicted=271.850, Expected=253.670\n",
            ">Predicted=253.670, Expected=252.690\n",
            ">Predicted=252.690, Expected=254.140\n",
            ">Predicted=254.140, Expected=238.220\n",
            ">Predicted=238.220, Expected=223.250\n",
            ">Predicted=223.250, Expected=259.050\n",
            ">Predicted=259.050, Expected=278.420\n",
            ">Predicted=278.420, Expected=289.760\n",
            ">Predicted=289.760, Expected=291.110\n",
            ">Predicted=291.110, Expected=287.960\n",
            ">Predicted=287.960, Expected=302.760\n",
            ">Predicted=302.760, Expected=300.190\n",
            ">Predicted=300.190, Expected=297.720\n",
            ">Predicted=297.720, Expected=311.500\n",
            ">Predicted=311.500, Expected=320.470\n",
            ">Predicted=320.470, Expected=330.810\n",
            ">Predicted=330.810, Expected=316.490\n",
            ">Predicted=316.490, Expected=320.550\n",
            ">Predicted=320.550, Expected=308.280\n",
            ">Predicted=308.280, Expected=339.010\n",
            ">Predicted=339.010, Expected=372.780\n",
            ">Predicted=372.780, Expected=369.250\n",
            ">Predicted=369.250, Expected=385.160\n",
            ">Predicted=385.160, Expected=360.730\n",
            ">Predicted=360.730, Expected=374.340\n",
            ">Predicted=374.340, Expected=384.220\n",
            ">Predicted=384.220, Expected=402.880\n",
            ">Predicted=402.880, Expected=392.050\n",
            ">Predicted=392.050, Expected=427.500\n",
            ">Predicted=427.500, Expected=414.500\n",
            ">Predicted=414.500, Expected=410.280\n",
            ">Predicted=410.280, Expected=412.950\n",
            ">Predicted=412.950, Expected=381.240\n",
            ">Predicted=381.240, Expected=380.470\n",
            ">Predicted=380.470, Expected=405.180\n",
            ">Predicted=405.180, Expected=409.190\n",
            ">Predicted=409.190, Expected=399.840\n",
            ">Predicted=399.840, Expected=400.960\n",
            ">Predicted=400.960, Expected=408.310\n",
            ">Predicted=408.310, Expected=378.160\n",
            ">Predicted=378.160, Expected=384.210\n",
            ">Predicted=384.210, Expected=350.120\n",
            ">Predicted=350.120, Expected=372.610\n",
            ">Predicted=372.610, Expected=367.090\n",
            ">Predicted=367.090, Expected=364.120\n",
            ">Predicted=364.120, Expected=357.690\n",
            ">Predicted=357.690, Expected=392.080\n",
            ">Predicted=392.080, Expected=413.190\n",
            ">Predicted=413.190, Expected=399.610\n",
            ">Predicted=399.610, Expected=394.900\n",
            ">Predicted=394.900, Expected=397.800\n",
            ">Predicted=397.800, Expected=416.790\n",
            ">Predicted=416.790, Expected=408.600\n",
            ">Predicted=408.600, Expected=344.630\n",
            ">Predicted=344.630, Expected=329.980\n",
            ">Predicted=329.980, Expected=330.020\n",
            ">Predicted=330.020, Expected=312.100\n",
            ">Predicted=312.100, Expected=328.440\n",
            ">Predicted=328.440, Expected=333.480\n",
            ">Predicted=333.480, Expected=330.830\n",
            ">Predicted=330.830, Expected=383.670\n",
            ">Predicted=383.670, Expected=416.320\n",
            ">Predicted=416.320, Expected=384.040\n",
            ">Predicted=384.040, Expected=353.980\n",
            ">Predicted=353.980, Expected=355.380\n",
            ">Predicted=355.380, Expected=340.090\n",
            ">Predicted=340.090, Expected=291.010\n",
            ">Predicted=291.010, Expected=270.560\n",
            ">Predicted=270.560, Expected=301.790\n",
            ">Predicted=301.790, Expected=308.820\n",
            ">Predicted=308.820, Expected=280.770\n",
            ">Predicted=280.770, Expected=274.390\n",
            ">Predicted=274.390, Expected=293.830\n",
            ">Predicted=293.830, Expected=273.130\n",
            ">Predicted=273.130, Expected=260.820\n",
            ">Predicted=260.820, Expected=265.200\n",
            ">Predicted=265.200, Expected=276.490\n",
            ">Predicted=276.490, Expected=302.570\n",
            ">Predicted=302.570, Expected=314.360\n",
            ">Predicted=314.360, Expected=310.500\n",
            ">Predicted=310.500, Expected=300.930\n",
            ">Predicted=300.930, Expected=307.780\n",
            ">Predicted=307.780, Expected=311.790\n",
            ">Predicted=311.790, Expected=305.680\n",
            ">Predicted=305.680, Expected=307.310\n",
            ">Predicted=307.310, Expected=306.910\n",
            ">Predicted=306.910, Expected=288.090\n",
            ">Predicted=288.090, Expected=290.600\n",
            ">Predicted=290.600, Expected=283.990\n",
            ">Predicted=283.990, Expected=297.570\n",
            ">Predicted=297.570, Expected=303.670\n",
            ">Predicted=303.670, Expected=301.310\n",
            ">Predicted=301.310, Expected=304.500\n",
            ">Predicted=304.500, Expected=304.400\n",
            ">Predicted=304.400, Expected=294.210\n",
            ">Predicted=294.210, Expected=303.600\n",
            ">Predicted=303.600, Expected=316.480\n",
            ">Predicted=316.480, Expected=314.950\n",
            ">Predicted=314.950, Expected=310.260\n",
            ">Predicted=310.260, Expected=324.090\n",
            ">Predicted=324.090, Expected=307.700\n",
            ">Predicted=307.700, Expected=313.120\n",
            ">Predicted=313.120, Expected=329.170\n",
            ">Predicted=329.170, Expected=324.510\n",
            ">Predicted=324.510, Expected=338.380\n",
            ">Predicted=338.380, Expected=327.710\n",
            ">Predicted=327.710, Expected=318.100\n",
            ">Predicted=318.100, Expected=314.020\n",
            ">Predicted=314.020, Expected=324.030\n",
            ">Predicted=324.030, Expected=324.230\n",
            ">Predicted=324.230, Expected=324.310\n",
            ">Predicted=324.310, Expected=333.210\n",
            ">Predicted=333.210, Expected=326.600\n",
            ">Predicted=326.600, Expected=318.190\n",
            ">Predicted=318.190, Expected=319.610\n",
            ">Predicted=319.610, Expected=331.810\n",
            ">Predicted=331.810, Expected=336.470\n",
            ">Predicted=336.470, Expected=312.800\n",
            ">Predicted=312.800, Expected=312.110\n",
            ">Predicted=312.110, Expected=308.380\n",
            ">Predicted=308.380, Expected=312.500\n",
            ">Predicted=312.500, Expected=315.110\n",
            ">Predicted=315.110, Expected=301.690\n",
            ">Predicted=301.690, Expected=278.300\n",
            ">Predicted=278.300, Expected=284.600\n",
            ">Predicted=284.600, Expected=262.510\n",
            ">Predicted=262.510, Expected=279.190\n",
            ">Predicted=279.190, Expected=274.090\n",
            ">Predicted=274.090, Expected=267.180\n",
            ">Predicted=267.180, Expected=263.780\n",
            ">Predicted=263.780, Expected=269.910\n",
            ">Predicted=269.910, Expected=254.500\n",
            ">Predicted=254.500, Expected=262.610\n",
            ">Predicted=262.610, Expected=232.010\n",
            ">Predicted=232.010, Expected=232.730\n",
            ">Predicted=232.730, Expected=238.900\n",
            ">Predicted=238.900, Expected=249.790\n",
            ">Predicted=249.790, Expected=256.500\n",
            ">Predicted=256.500, Expected=250.700\n",
            ">Predicted=250.700, Expected=244.800\n",
            ">Predicted=244.800, Expected=225.980\n",
            ">Predicted=225.980, Expected=203.190\n",
            ">Predicted=203.190, Expected=191.590\n",
            ">Predicted=191.590, Expected=185.100\n",
            ">Predicted=185.100, Expected=186.900\n",
            ">Predicted=186.900, Expected=202.900\n",
            ">Predicted=202.900, Expected=177.130\n",
            ">Predicted=177.130, Expected=166.960\n",
            ">Predicted=166.960, Expected=180.530\n",
            ">Predicted=180.530, Expected=179.900\n",
            ">Predicted=179.900, Expected=162.280\n",
            ">Predicted=162.280, Expected=169.500\n",
            ">Predicted=169.500, Expected=173.200\n",
            ">Predicted=173.200, Expected=174.180\n",
            ">Predicted=174.180, Expected=186.720\n",
            ">Predicted=186.720, Expected=193.280\n",
            ">Predicted=193.280, Expected=183.310\n",
            ">Predicted=183.310, Expected=180.680\n",
            ">Predicted=180.680, Expected=186.000\n",
            ">Predicted=186.000, Expected=206.480\n",
            ">Predicted=206.480, Expected=247.230\n",
            ">Predicted=247.230, Expected=270.000\n",
            ">Predicted=270.000, Expected=263.960\n",
            ">Predicted=263.960, Expected=268.090\n",
            ">Predicted=268.090, Expected=277.160\n",
            ">Predicted=277.160, Expected=252.300\n",
            ">Predicted=252.300, Expected=236.270\n",
            ">Predicted=236.270, Expected=262.880\n",
            ">Predicted=262.880, Expected=254.010\n",
            ">Predicted=254.010, Expected=266.520\n",
            ">Predicted=266.520, Expected=265.300\n",
            ">Predicted=265.300, Expected=266.510\n",
            ">Predicted=266.510, Expected=252.030\n",
            ">Predicted=252.030, Expected=230.550\n",
            ">Predicted=230.550, Expected=221.300\n",
            ">Predicted=221.300, Expected=211.200\n",
            ">Predicted=211.200, Expected=211.700\n",
            ">Predicted=211.700, Expected=209.310\n",
            ">Predicted=209.310, Expected=200.090\n",
            ">Predicted=200.090, Expected=213.370\n",
            ">Predicted=213.370, Expected=218.190\n",
            ">Predicted=218.190, Expected=209.130\n",
            ">Predicted=209.130, Expected=223.900\n",
            ">Predicted=223.900, Expected=238.610\n",
            ">Predicted=238.610, Expected=242.610\n",
            ">Predicted=242.610, Expected=226.600\n",
            ">Predicted=226.600, Expected=232.600\n",
            ">Predicted=232.600, Expected=210.300\n",
            ">Predicted=210.300, Expected=198.810\n",
            ">Predicted=198.810, Expected=171.380\n",
            ">Predicted=171.380, Expected=146.910\n",
            ">Predicted=146.910, Expected=158.500\n",
            ">Predicted=158.500, Expected=152.100\n",
            ">Predicted=152.100, Expected=151.920\n",
            ">Predicted=151.920, Expected=146.280\n",
            ">Predicted=146.280, Expected=144.520\n",
            ">Predicted=144.520, Expected=148.990\n",
            ">Predicted=148.990, Expected=153.700\n",
            ">Predicted=153.700, Expected=149.110\n",
            ">Predicted=149.110, Expected=157.790\n",
            ">Predicted=157.790, Expected=163.610\n",
            ">Predicted=163.610, Expected=151.350\n",
            ">Predicted=151.350, Expected=152.790\n",
            ">Predicted=152.790, Expected=166.990\n",
            ">Predicted=166.990, Expected=166.380\n",
            ">Predicted=166.380, Expected=173.390\n",
            ">Predicted=173.390, Expected=181.310\n",
            ">Predicted=181.310, Expected=183.710\n",
            "RMSE: 15.816\n"
          ]
        }
      ]
    },
    {
      "cell_type": "markdown",
      "metadata": {
        "id": "H3z_HDnwuYg3"
      },
      "source": [
        "We got a RMSE value of 15.816 using the baseline model. So, our other models must be definitely better than this."
      ]
    },
    {
      "cell_type": "code",
      "metadata": {
        "colab": {
          "base_uri": "https://localhost:8080/"
        },
        "id": "zK_Diyca5ZoM",
        "outputId": "54119f6c-7064-4e71-a122-d30653ec32dd"
      },
      "source": [
        "series.describe()"
      ],
      "execution_count": 15,
      "outputs": [
        {
          "output_type": "execute_result",
          "data": {
            "text/plain": [
              "count    461.000000\n",
              "mean     282.968503\n",
              "std      120.185500\n",
              "min       30.840000\n",
              "25%      198.810000\n",
              "50%      301.690000\n",
              "75%      370.010000\n",
              "max      629.380000\n",
              "Name: 1, dtype: float64"
            ]
          },
          "metadata": {},
          "execution_count": 15
        }
      ]
    },
    {
      "cell_type": "markdown",
      "metadata": {
        "id": "-JHBHpJOulBV"
      },
      "source": [
        "## Visualizing our data:"
      ]
    },
    {
      "cell_type": "code",
      "metadata": {
        "colab": {
          "base_uri": "https://localhost:8080/",
          "height": 508
        },
        "id": "xvCpc0G65bHY",
        "outputId": "51c2d1bd-b716-48de-87bd-8e03a5aa6798"
      },
      "source": [
        "plt.figure(figsize=(20,8))\n",
        "series.plot()"
      ],
      "execution_count": 16,
      "outputs": [
        {
          "output_type": "execute_result",
          "data": {
            "text/plain": [
              "<matplotlib.axes._subplots.AxesSubplot at 0x7f8dbf4d1d50>"
            ]
          },
          "metadata": {},
          "execution_count": 16
        },
        {
          "output_type": "display_data",
          "data": {
            "image/png": "[encoded data removed]",
            "text/plain": [
              "<Figure size 1440x576 with 1 Axes>"
            ]
          },
          "metadata": {
            "needs_background": "light"
          }
        }
      ]
    },
    {
      "cell_type": "code",
      "metadata": {
        "colab": {
          "base_uri": "https://localhost:8080/",
          "height": 484
        },
        "id": "eHt47N6L52qO",
        "outputId": "dadb7c53-5180-438f-aefa-5a8ebbc2a56f"
      },
      "source": [
        "plt.figure(figsize=(20,8))\n",
        "plt.figure(1)\n",
        "plt.subplot(121)\n",
        "series.hist()\n",
        "plt.subplot(122)\n",
        "series.plot(kind='kde')"
      ],
      "execution_count": 17,
      "outputs": [
        {
          "output_type": "execute_result",
          "data": {
            "text/plain": [
              "<matplotlib.axes._subplots.AxesSubplot at 0x7f8dbe662990>"
            ]
          },
          "metadata": {},
          "execution_count": 17
        },
        {
          "output_type": "display_data",
          "data": {
            "image/png": "[encoded data removed]",
            "text/plain": [
              "<Figure size 1440x576 with 2 Axes>"
            ]
          },
          "metadata": {
            "needs_background": "light"
          }
        }
      ]
    },
    {
      "cell_type": "markdown",
      "metadata": {
        "id": "zgN9OzzWuvM-"
      },
      "source": [
        "## ADF test:"
      ]
    },
    {
      "cell_type": "code",
      "metadata": {
        "colab": {
          "base_uri": "https://localhost:8080/"
        },
        "id": "UnbMta3y75pN",
        "outputId": "4f8d8769-6cdc-4a97-c4b4-8bdd62e2cfb9"
      },
      "source": [
        "from statsmodels.tsa.stattools import adfuller\n",
        "\n",
        "def difference(dataset):\n",
        "  diff = list()\n",
        "  for i in range(1, len(dataset)):\n",
        "    value = dataset[i] - dataset[i - 1]\n",
        "    diff.append(value)\n",
        "  return pd.Series(diff)\n",
        "\n",
        "# difference data\n",
        "stationary = difference(X)\n",
        "stationary.index = series.index[1:]\n",
        "# check if stationary\n",
        "result = adfuller(stationary)\n",
        "print('ADF Statistic: %f' % result[0])\n",
        "print('p-value: %f' % result[1])\n",
        "print('Critical Values:')\n",
        "for key, value in result[4].items():\n",
        "  print('\\t%s: %.3f' % (key, value))\n",
        "# save\n",
        "stationary.to_csv('stationary.csv', header=False)"
      ],
      "execution_count": 19,
      "outputs": [
        {
          "output_type": "stream",
          "name": "stderr",
          "text": [
            "/usr/local/lib/python3.7/dist-packages/statsmodels/tools/_testing.py:19: FutureWarning: pandas.util.testing is deprecated. Use the functions in the public API at pandas.testing instead.\n",
            "  import pandas.util.testing as tm\n"
          ]
        },
        {
          "output_type": "stream",
          "name": "stdout",
          "text": [
            "ADF Statistic: -8.792859\n",
            "p-value: 0.000000\n",
            "Critical Values:\n",
            "\t1%: -3.445\n",
            "\t5%: -2.868\n",
            "\t10%: -2.570\n"
          ]
        }
      ]
    },
    {
      "cell_type": "markdown",
      "metadata": {
        "id": "LL_N4ef19uV7"
      },
      "source": [
        "ADF (Augmented Dicky Fuller) statistic is -8.79 which is less than 1% critical value. So, we can reject the null hypothesis and accept the alternate hypothesis (which is the data is stationary, by performing 1 differencing)"
      ]
    },
    {
      "cell_type": "markdown",
      "metadata": {
        "id": "Mb2vHszjvB-3"
      },
      "source": [
        "## Plotting Autocorrelation and Partial Autocorrelation plots:"
      ]
    },
    {
      "cell_type": "code",
      "metadata": {
        "colab": {
          "base_uri": "https://localhost:8080/",
          "height": 479
        },
        "id": "V-sX5onI80f8",
        "outputId": "60ea8be3-190f-40bb-b861-0965f99fe44f"
      },
      "source": [
        "from statsmodels.graphics.tsaplots import plot_acf\n",
        "from statsmodels.graphics.tsaplots import plot_pacf\n",
        "\n",
        "plt.figure(figsize=(20,8))\n",
        "plt.subplot(211)\n",
        "plot_acf(series, lags=50, ax=plt.gca())\n",
        "plt.subplot(212)\n",
        "plot_pacf(series, lags=50, ax=plt.gca())\n",
        "plt.show()"
      ],
      "execution_count": 20,
      "outputs": [
        {
          "output_type": "display_data",
          "data": {
            "image/png": "[encoded data removed]",
            "text/plain": [
              "<Figure size 1440x576 with 2 Axes>"
            ]
          },
          "metadata": {
            "needs_background": "light"
          }
        }
      ]
    },
    {
      "cell_type": "markdown",
      "metadata": {
        "id": "q2GBj_USvdYS"
      },
      "source": [
        "## Fitting the ARIMA model using (p,d,q) = (2,1,1):"
      ]
    },
    {
      "cell_type": "code",
      "metadata": {
        "colab": {
          "base_uri": "https://localhost:8080/"
        },
        "id": "QoqsFHJD-3-3",
        "outputId": "4f6f8026-27a6-4685-ca16-f9a0516326d2"
      },
      "source": [
        "from statsmodels.tsa.arima_model import ARIMA\n",
        "#prepare data\n",
        "X = series.values\n",
        "X = X.astype('float32')\n",
        "train_size = int(len(X) * 0.50)\n",
        "train, test = X[0:train_size], X[train_size:]\n",
        "# walk-forward validation\n",
        "history = [x for x in train]\n",
        "predictions = list()\n",
        "for i in range(len(test)): \n",
        "  # predict\n",
        "  model = ARIMA(history, order=(2,1,1))\n",
        "  model_fit = model.fit(disp=0)\n",
        "  yhat = model_fit.forecast()[0]\n",
        "  predictions.append(yhat)\n",
        "  # observation\n",
        "  obs = test[i]\n",
        "  history.append(obs)\n",
        "  print('>Predicted=%.3f, Expected=%.3f' % (yhat, obs))\n",
        "# report performance\n",
        "rmse = sqrt(mean_squared_error(test, predictions))\n",
        "print('RMSE: %.3f' % rmse)"
      ],
      "execution_count": 21,
      "outputs": [
        {
          "output_type": "stream",
          "name": "stdout",
          "text": [
            ">Predicted=199.940, Expected=207.880\n",
            ">Predicted=212.740, Expected=211.300\n",
            ">Predicted=209.039, Expected=187.100\n",
            ">Predicted=191.959, Expected=186.960\n",
            ">Predicted=182.997, Expected=203.040\n",
            ">Predicted=205.879, Expected=226.520\n",
            ">Predicted=225.245, Expected=236.610\n",
            ">Predicted=239.912, Expected=250.530\n",
            ">Predicted=249.461, Expected=230.820\n",
            ">Predicted=235.459, Expected=234.230\n",
            ">Predicted=230.731, Expected=261.150\n",
            ">Predicted=263.539, Expected=277.090\n",
            ">Predicted=277.839, Expected=308.630\n",
            ">Predicted=309.021, Expected=316.740\n",
            ">Predicted=320.265, Expected=314.940\n",
            ">Predicted=315.140, Expected=293.120\n",
            ">Predicted=296.127, Expected=303.230\n",
            ">Predicted=300.634, Expected=294.580\n",
            ">Predicted=299.608, Expected=304.490\n",
            ">Predicted=301.449, Expected=297.100\n",
            ">Predicted=302.349, Expected=271.190\n",
            ">Predicted=270.302, Expected=279.420\n",
            ">Predicted=279.244, Expected=271.850\n",
            ">Predicted=274.741, Expected=253.670\n",
            ">Predicted=253.815, Expected=252.690\n",
            ">Predicted=252.819, Expected=254.140\n",
            ">Predicted=255.372, Expected=238.220\n",
            ">Predicted=239.912, Expected=223.250\n",
            ">Predicted=223.152, Expected=259.050\n",
            ">Predicted=257.029, Expected=278.420\n",
            ">Predicted=282.734, Expected=289.760\n",
            ">Predicted=289.031, Expected=291.110\n",
            ">Predicted=294.086, Expected=287.960\n",
            ">Predicted=287.807, Expected=302.760\n",
            ">Predicted=303.426, Expected=300.190\n",
            ">Predicted=302.710, Expected=297.720\n",
            ">Predicted=297.609, Expected=311.500\n",
            ">Predicted=312.287, Expected=320.470\n",
            ">Predicted=322.169, Expected=330.810\n",
            ">Predicted=331.483, Expected=316.490\n",
            ">Predicted=319.522, Expected=320.550\n",
            ">Predicted=318.896, Expected=308.280\n",
            ">Predicted=312.327, Expected=339.010\n",
            ">Predicted=335.058, Expected=372.780\n",
            ">Predicted=377.833, Expected=369.250\n",
            ">Predicted=370.497, Expected=385.160\n",
            ">Predicted=385.169, Expected=360.730\n",
            ">Predicted=365.567, Expected=374.340\n",
            ">Predicted=370.300, Expected=384.220\n",
            ">Predicted=389.555, Expected=402.880\n",
            ">Predicted=400.803, Expected=392.050\n",
            ">Predicted=397.824, Expected=427.500\n",
            ">Predicted=422.558, Expected=414.500\n",
            ">Predicted=423.860, Expected=410.280\n",
            ">Predicted=405.292, Expected=412.950\n",
            ">Predicted=418.305, Expected=381.240\n",
            ">Predicted=382.003, Expected=380.470\n",
            ">Predicted=379.891, Expected=405.180\n",
            ">Predicted=405.981, Expected=409.190\n",
            ">Predicted=412.239, Expected=399.840\n",
            ">Predicted=400.775, Expected=400.960\n",
            ">Predicted=401.782, Expected=408.310\n",
            ">Predicted=409.508, Expected=378.160\n",
            ">Predicted=381.975, Expected=384.210\n",
            ">Predicted=381.158, Expected=350.120\n",
            ">Predicted=357.058, Expected=372.610\n",
            ">Predicted=365.675, Expected=367.090\n",
            ">Predicted=375.881, Expected=364.120\n",
            ">Predicted=359.672, Expected=357.690\n",
            ">Predicted=363.051, Expected=392.080\n",
            ">Predicted=387.301, Expected=413.190\n",
            ">Predicted=419.517, Expected=399.610\n",
            ">Predicted=399.637, Expected=394.900\n",
            ">Predicted=396.444, Expected=397.800\n",
            ">Predicted=398.267, Expected=416.790\n",
            ">Predicted=417.438, Expected=408.600\n",
            ">Predicted=412.095, Expected=344.630\n",
            ">Predicted=347.972, Expected=329.980\n",
            ">Predicted=326.129, Expected=330.020\n",
            ">Predicted=333.453, Expected=312.100\n",
            ">Predicted=312.376, Expected=328.440\n",
            ">Predicted=327.600, Expected=333.480\n",
            ">Predicted=336.481, Expected=330.830\n",
            ">Predicted=330.830, Expected=383.670\n",
            ">Predicted=381.839, Expected=416.320\n",
            ">Predicted=421.161, Expected=384.040\n",
            ">Predicted=386.863, Expected=353.980\n",
            ">Predicted=353.557, Expected=355.380\n",
            ">Predicted=355.426, Expected=340.090\n",
            ">Predicted=342.758, Expected=291.010\n",
            ">Predicted=292.299, Expected=270.560\n",
            ">Predicted=268.633, Expected=301.790\n",
            ">Predicted=301.413, Expected=308.820\n",
            ">Predicted=312.274, Expected=280.770\n",
            ">Predicted=281.638, Expected=274.390\n",
            ">Predicted=273.585, Expected=293.830\n",
            ">Predicted=294.305, Expected=273.130\n",
            ">Predicted=276.496, Expected=260.820\n",
            ">Predicted=258.972, Expected=265.200\n",
            ">Predicted=266.773, Expected=276.490\n",
            ">Predicted=276.253, Expected=302.570\n",
            ">Predicted=303.427, Expected=314.360\n",
            ">Predicted=316.227, Expected=310.500\n",
            ">Predicted=311.550, Expected=300.930\n",
            ">Predicted=301.826, Expected=307.780\n",
            ">Predicted=307.561, Expected=311.790\n",
            ">Predicted=313.620, Expected=305.680\n",
            ">Predicted=306.333, Expected=307.310\n",
            ">Predicted=307.765, Expected=306.910\n",
            ">Predicted=308.110, Expected=288.090\n",
            ">Predicted=289.514, Expected=290.600\n",
            ">Predicted=289.531, Expected=283.990\n",
            ">Predicted=286.583, Expected=297.570\n",
            ">Predicted=295.834, Expected=303.670\n",
            ">Predicted=306.855, Expected=301.310\n",
            ">Predicted=300.839, Expected=304.500\n",
            ">Predicted=305.892, Expected=304.400\n",
            ">Predicted=304.946, Expected=294.210\n",
            ">Predicted=295.669, Expected=303.600\n",
            ">Predicted=302.714, Expected=316.480\n",
            ">Predicted=318.435, Expected=314.950\n",
            ">Predicted=315.807, Expected=310.260\n",
            ">Predicted=311.163, Expected=324.090\n",
            ">Predicted=323.806, Expected=307.700\n",
            ">Predicted=311.048, Expected=313.120\n",
            ">Predicted=310.707, Expected=329.170\n",
            ">Predicted=331.829, Expected=324.510\n",
            ">Predicted=325.216, Expected=338.380\n",
            ">Predicted=338.278, Expected=327.710\n",
            ">Predicted=330.674, Expected=318.100\n",
            ">Predicted=317.215, Expected=314.020\n",
            ">Predicted=315.695, Expected=324.030\n",
            ">Predicted=323.385, Expected=324.230\n",
            ">Predicted=326.702, Expected=324.310\n",
            ">Predicted=323.892, Expected=333.210\n",
            ">Predicted=334.457, Expected=326.600\n",
            ">Predicted=327.994, Expected=318.190\n",
            ">Predicted=318.607, Expected=319.610\n",
            ">Predicted=320.084, Expected=331.810\n",
            ">Predicted=332.269, Expected=336.470\n",
            ">Predicted=338.030, Expected=312.800\n",
            ">Predicted=314.601, Expected=312.110\n",
            ">Predicted=310.739, Expected=308.380\n",
            ">Predicted=310.863, Expected=312.500\n",
            ">Predicted=311.517, Expected=315.110\n",
            ">Predicted=317.251, Expected=301.690\n",
            ">Predicted=302.282, Expected=278.300\n",
            ">Predicted=279.513, Expected=284.600\n",
            ">Predicted=283.111, Expected=262.510\n",
            ">Predicted=266.305, Expected=279.190\n",
            ">Predicted=275.227, Expected=274.090\n",
            ">Predicted=279.419, Expected=267.180\n",
            ">Predicted=264.430, Expected=263.780\n",
            ">Predicted=266.667, Expected=269.910\n",
            ">Predicted=268.301, Expected=254.500\n",
            ">Predicted=257.961, Expected=262.610\n",
            ">Predicted=259.714, Expected=232.010\n",
            ">Predicted=237.356, Expected=232.730\n",
            ">Predicted=227.831, Expected=238.900\n",
            ">Predicted=243.123, Expected=249.790\n",
            ">Predicted=247.352, Expected=256.500\n",
            ">Predicted=259.559, Expected=250.700\n",
            ">Predicted=250.147, Expected=244.800\n",
            ">Predicted=246.164, Expected=225.980\n",
            ">Predicted=226.572, Expected=203.190\n",
            ">Predicted=203.655, Expected=191.590\n",
            ">Predicted=191.180, Expected=185.100\n",
            ">Predicted=185.698, Expected=186.900\n",
            ">Predicted=186.631, Expected=202.900\n",
            ">Predicted=203.103, Expected=177.130\n",
            ">Predicted=180.043, Expected=166.960\n",
            ">Predicted=164.368, Expected=180.530\n",
            ">Predicted=181.707, Expected=179.900\n",
            ">Predicted=180.522, Expected=162.280\n",
            ">Predicted=163.314, Expected=169.500\n",
            ">Predicted=167.872, Expected=173.200\n",
            ">Predicted=175.242, Expected=174.180\n",
            ">Predicted=173.441, Expected=186.720\n",
            ">Predicted=187.297, Expected=193.280\n",
            ">Predicted=193.925, Expected=183.310\n",
            ">Predicted=184.419, Expected=180.680\n",
            ">Predicted=180.045, Expected=186.000\n",
            ">Predicted=186.677, Expected=206.480\n",
            ">Predicted=205.910, Expected=247.230\n",
            ">Predicted=247.706, Expected=270.000\n",
            ">Predicted=272.156, Expected=263.960\n",
            ">Predicted=265.136, Expected=268.090\n",
            ">Predicted=267.604, Expected=277.160\n",
            ">Predicted=278.374, Expected=252.300\n",
            ">Predicted=254.123, Expected=236.270\n",
            ">Predicted=234.915, Expected=262.880\n",
            ">Predicted=262.473, Expected=254.010\n",
            ">Predicted=257.338, Expected=266.520\n",
            ">Predicted=263.817, Expected=265.300\n",
            ">Predicted=269.107, Expected=266.510\n",
            ">Predicted=264.502, Expected=252.030\n",
            ">Predicted=255.238, Expected=230.550\n",
            ">Predicted=229.136, Expected=221.300\n",
            ">Predicted=222.218, Expected=211.200\n",
            ">Predicted=211.138, Expected=211.700\n",
            ">Predicted=211.798, Expected=209.310\n",
            ">Predicted=210.100, Expected=200.090\n",
            ">Predicted=200.467, Expected=213.370\n",
            ">Predicted=212.585, Expected=218.190\n",
            ">Predicted=220.137, Expected=209.130\n",
            ">Predicted=209.137, Expected=223.900\n",
            ">Predicted=223.365, Expected=238.610\n",
            ">Predicted=240.051, Expected=242.610\n",
            ">Predicted=243.114, Expected=226.600\n",
            ">Predicted=228.019, Expected=232.600\n",
            ">Predicted=231.033, Expected=210.300\n",
            ">Predicted=213.645, Expected=198.810\n",
            ">Predicted=196.116, Expected=171.380\n",
            ">Predicted=174.470, Expected=146.910\n",
            ">Predicted=144.284, Expected=158.500\n",
            ">Predicted=158.740, Expected=152.100\n",
            ">Predicted=153.454, Expected=151.920\n",
            ">Predicted=150.963, Expected=146.280\n",
            ">Predicted=147.677, Expected=144.520\n",
            ">Predicted=143.621, Expected=148.990\n",
            ">Predicted=149.791, Expected=153.700\n",
            ">Predicted=153.661, Expected=149.110\n",
            ">Predicted=150.109, Expected=157.790\n",
            ">Predicted=156.835, Expected=163.610\n",
            ">Predicted=165.140, Expected=151.350\n",
            ">Predicted=151.610, Expected=152.790\n",
            ">Predicted=152.182, Expected=166.990\n",
            ">Predicted=167.407, Expected=166.380\n",
            ">Predicted=167.540, Expected=173.390\n",
            ">Predicted=172.705, Expected=181.310\n",
            ">Predicted=182.487, Expected=183.710\n",
            "RMSE: 16.233\n"
          ]
        }
      ]
    },
    {
      "cell_type": "markdown",
      "metadata": {
        "id": "nKBMJsiPvobM"
      },
      "source": [
        "## Hyper parameter tuning to find the best (p,d,q) values:"
      ]
    },
    {
      "cell_type": "code",
      "metadata": {
        "colab": {
          "base_uri": "https://localhost:8080/"
        },
        "id": "V3LieMLoAwT9",
        "outputId": "07aa654e-5076-4f5b-d34e-6f794bd32658"
      },
      "source": [
        "import warnings\n",
        "# evaluate an ARIMA model for a given order (p,d,q) and return RMSE\n",
        "def evaluate_arima_model(X, arima_order):\n",
        "  # prepare training dataset\n",
        "  X = X.astype('float32')\n",
        "  train_size = int(len(X) * 0.50)\n",
        "  train, test = X[0:train_size], X[train_size:]\n",
        "  history = [x for x in train]\n",
        "  # make predictions\n",
        "  predictions = list()\n",
        "  for t in range(len(test)):\n",
        "    model = ARIMA(history, order=arima_order)\n",
        "    model_fit = model.fit(disp=0)\n",
        "    yhat = model_fit.forecast()[0]\n",
        "    predictions.append(yhat)\n",
        "    history.append(test[t])\n",
        "  # calculate out of sample error\n",
        "  rmse = sqrt(mean_squared_error(test, predictions))\n",
        "  return rmse\n",
        "\n",
        "# evaluate combinations of p, d and q values for an ARIMA model\n",
        "def evaluate_models(dataset, p_values, d_values, q_values):\n",
        "  dataset = dataset.astype('float32')\n",
        "  best_score, best_cfg = float(\"inf\"), None\n",
        "  for p in p_values:\n",
        "    for d in d_values:\n",
        "      for q in q_values:\n",
        "        order = (p,d,q)\n",
        "        try:\n",
        "          rmse = evaluate_arima_model(dataset, order)\n",
        "          if rmse < best_score:\n",
        "            best_score, best_cfg = rmse, order\n",
        "          print('ARIMA%s RMSE=%.3f' % (order,rmse))\n",
        "        except:\n",
        "          continue\n",
        "  print('Best ARIMA%s RMSE=%.3f' % (best_cfg, best_score))\n",
        "\n",
        "# evaluate parameters\n",
        "p_values = range(0,5)\n",
        "d_values = range(0,2)\n",
        "q_values = range(0,3)\n",
        "warnings.filterwarnings(\"ignore\")\n",
        "evaluate_models(series.values, p_values, d_values, q_values)"
      ],
      "execution_count": 22,
      "outputs": [
        {
          "output_type": "stream",
          "name": "stdout",
          "text": [
            "ARIMA(0, 0, 0) RMSE=71.126\n",
            "ARIMA(0, 0, 1) RMSE=41.057\n",
            "ARIMA(0, 0, 2) RMSE=28.260\n",
            "ARIMA(0, 1, 0) RMSE=15.853\n",
            "ARIMA(0, 1, 1) RMSE=16.040\n",
            "ARIMA(0, 1, 2) RMSE=16.161\n",
            "ARIMA(1, 0, 0) RMSE=15.770\n",
            "ARIMA(1, 0, 1) RMSE=15.949\n",
            "ARIMA(1, 0, 2) RMSE=16.077\n",
            "ARIMA(1, 1, 0) RMSE=16.087\n",
            "ARIMA(1, 1, 1) RMSE=16.244\n",
            "ARIMA(2, 0, 0) RMSE=15.996\n",
            "ARIMA(2, 0, 1) RMSE=16.161\n",
            "ARIMA(2, 0, 2) RMSE=16.131\n",
            "ARIMA(2, 1, 0) RMSE=16.241\n",
            "ARIMA(2, 1, 1) RMSE=16.233\n",
            "ARIMA(3, 0, 0) RMSE=16.155\n",
            "ARIMA(3, 0, 1) RMSE=16.140\n",
            "ARIMA(3, 1, 0) RMSE=16.314\n",
            "ARIMA(3, 1, 1) RMSE=16.151\n",
            "ARIMA(4, 0, 0) RMSE=16.232\n",
            "ARIMA(4, 0, 1) RMSE=16.073\n",
            "ARIMA(4, 1, 0) RMSE=16.234\n",
            "ARIMA(4, 1, 1) RMSE=16.077\n",
            "Best ARIMA(1, 0, 0) RMSE=15.770\n"
          ]
        }
      ]
    },
    {
      "cell_type": "markdown",
      "metadata": {
        "id": "b1Ken8nTPgZh"
      },
      "source": [
        "ARIMA(1,0,0) gives us the better RMSE value. So, let's take that for further steps."
      ]
    },
    {
      "cell_type": "markdown",
      "metadata": {
        "id": "EfUkoarZv-_M"
      },
      "source": [
        "## Train the ARIMA model using (1,0,0) and analysing the residual errors that we got:"
      ]
    },
    {
      "cell_type": "code",
      "metadata": {
        "id": "szzhkZ8dCC_D",
        "colab": {
          "base_uri": "https://localhost:8080/",
          "height": 484
        },
        "outputId": "94fa1939-8424-45da-a226-138f68772ed2"
      },
      "source": [
        "import warnings\n",
        "warnings.filterwarnings(\"ignore\")\n",
        "# prepare data\n",
        "X = series.values\n",
        "X = X.astype('float32')\n",
        "train_size = int(len(X) * 0.50)\n",
        "train, test = X[0:train_size], X[train_size:]\n",
        "# walk-forward validation\n",
        "history = [x for x in train]\n",
        "predictions = list()\n",
        "for i in range(len(test)):\n",
        "  # predict\n",
        "  model = ARIMA(history, order=(1,0,0))\n",
        "  model_fit = model.fit(disp=0)\n",
        "  yhat = model_fit.forecast()[0]\n",
        "  predictions.append(yhat)\n",
        "  # observation\n",
        "  obs = test[i]\n",
        "  history.append(obs)\n",
        "# errors\n",
        "residuals = [test[i]-predictions[i] for i in range(len(test))]\n",
        "residuals = pd.DataFrame(residuals)\n",
        "\n",
        "plt.figure(figsize=(20,8))\n",
        "plt.subplot(121)\n",
        "residuals.hist(ax=plt.gca())\n",
        "plt.subplot(122)\n",
        "residuals.plot(kind='kde', ax=plt.gca())\n",
        "plt.show()"
      ],
      "execution_count": 23,
      "outputs": [
        {
          "output_type": "display_data",
          "data": {
            "image/png": "[encoded data removed]",
            "text/plain": [
              "<Figure size 1440x576 with 2 Axes>"
            ]
          },
          "metadata": {
            "needs_background": "light"
          }
        }
      ]
    },
    {
      "cell_type": "markdown",
      "metadata": {
        "id": "3rF-9cHIwLsm"
      },
      "source": [
        "The mean of the residual errors stays at \"0\". So, there is no necessary in addition or subraction of bias."
      ]
    },
    {
      "cell_type": "markdown",
      "metadata": {
        "id": "nMjLTRnOwYOj"
      },
      "source": [
        "## ACF and PACF of residual errors:"
      ]
    },
    {
      "cell_type": "code",
      "metadata": {
        "colab": {
          "base_uri": "https://localhost:8080/",
          "height": 482
        },
        "id": "E_S524dXbHFU",
        "outputId": "8ed97fdb-c4f8-492b-efa4-3ea99fd8591d"
      },
      "source": [
        "plt.figure(figsize=(20,8))\n",
        "plt.subplot(121)\n",
        "plot_acf(residuals, lags=25, ax=plt.gca())\n",
        "plt.subplot(122)\n",
        "plot_pacf(residuals, lags=25, ax=plt.gca())\n",
        "plt.show()"
      ],
      "execution_count": 24,
      "outputs": [
        {
          "output_type": "display_data",
          "data": {
            "image/png": "[encoded data removed]",
            "text/plain": [
              "<Figure size 1440x576 with 2 Axes>"
            ]
          },
          "metadata": {
            "needs_background": "light"
          }
        }
      ]
    },
    {
      "cell_type": "markdown",
      "metadata": {
        "id": "gZgSZEffwd9G"
      },
      "source": [
        "## Transforming the dataset using boxcox and finding the best lambda value:"
      ]
    },
    {
      "cell_type": "code",
      "metadata": {
        "colab": {
          "base_uri": "https://localhost:8080/",
          "height": 510
        },
        "id": "YQfBi2uTbNmo",
        "outputId": "e3af4fd7-2498-4dfd-80f6-3ad4d81e1a52"
      },
      "source": [
        "from scipy.stats import boxcox\n",
        "from statsmodels.graphics.gofplots import qqplot\n",
        "X = series.values\n",
        "transformed, lam = boxcox(X)\n",
        "print('Lambda: %f' % lam)\n",
        "plt.figure(1)\n",
        "plt.figure(figsize=(20,8))\n",
        "# line plot\n",
        "plt.subplot(311)\n",
        "plt.plot(transformed)\n",
        "# histogram\n",
        "plt.subplot(312)\n",
        "plt.hist(transformed)\n",
        "# q-q plot\n",
        "plt.subplot(313)\n",
        "qqplot(transformed, line='r', ax=plt.gca())\n",
        "plt.show()"
      ],
      "execution_count": 25,
      "outputs": [
        {
          "output_type": "stream",
          "name": "stdout",
          "text": [
            "Lambda: 1.016903\n"
          ]
        },
        {
          "output_type": "display_data",
          "data": {
            "text/plain": [
              "<Figure size 432x288 with 0 Axes>"
            ]
          },
          "metadata": {}
        },
        {
          "output_type": "display_data",
          "data": {
            "image/png": "[encoded data removed]",
            "text/plain": [
              "<Figure size 1440x576 with 3 Axes>"
            ]
          },
          "metadata": {
            "needs_background": "light"
          }
        }
      ]
    },
    {
      "cell_type": "markdown",
      "metadata": {
        "id": "viplmur8wnvt"
      },
      "source": [
        "Best lambda value = 1.0169"
      ]
    },
    {
      "cell_type": "markdown",
      "metadata": {
        "id": "FPdACrdlwtUm"
      },
      "source": [
        "## Creating a function to inverse the tranformation that was made:"
      ]
    },
    {
      "cell_type": "code",
      "metadata": {
        "id": "jpy0noPfcRuz"
      },
      "source": [
        "from math import log\n",
        "from math import exp\n",
        "# invert box-cox transform\n",
        "def boxcox_inverse(value, lam):\n",
        "  if lam == 0:\n",
        "    return exp(value)\n",
        "  return exp(log(lam * value + 1) / lam)"
      ],
      "execution_count": 26,
      "outputs": []
    },
    {
      "cell_type": "markdown",
      "metadata": {
        "id": "uneLuoaRw1Lr"
      },
      "source": [
        "## Training the ARIMA model with the transformed data as an input:"
      ]
    },
    {
      "cell_type": "code",
      "metadata": {
        "colab": {
          "base_uri": "https://localhost:8080/"
        },
        "id": "7zdY5RhDeCgG",
        "outputId": "55c00930-fb55-467d-868c-f14d64ecc790"
      },
      "source": [
        "X = X.astype('float32')\n",
        "train_size = int(len(X) * 0.50)\n",
        "train, test = X[0:train_size], X[train_size:]\n",
        "# walk-forward validation\n",
        "history = [x for x in train]\n",
        "predictions = list()\n",
        "for i in range(len(test)):\n",
        "  # transform\n",
        "  transformed, lam = boxcox(history)\n",
        "  if lam < -5:\n",
        "    transformed, lam = history, 1\n",
        "  # predict\n",
        "  model = ARIMA(transformed, order=(1,0,0))\n",
        "  model_fit = model.fit(disp=0)\n",
        "  yhat = model_fit.forecast()[0]\n",
        "  # invert transformed prediction\n",
        "  yhat = boxcox_inverse(yhat, lam)\n",
        "  predictions.append(yhat)\n",
        "  # observation\n",
        "  obs = test[i]\n",
        "  history.append(obs)\n",
        "  print('>Predicted=%.3f, Expected=%.3f' % (yhat, obs))\n",
        "# report performance\n",
        "rmse = sqrt(mean_squared_error(test, predictions))\n",
        "print('RMSE: %.3f' % rmse)"
      ],
      "execution_count": 27,
      "outputs": [
        {
          "output_type": "stream",
          "name": "stdout",
          "text": [
            ">Predicted=205.941, Expected=207.880\n",
            ">Predicted=207.893, Expected=211.300\n",
            ">Predicted=211.274, Expected=187.100\n",
            ">Predicted=187.310, Expected=186.960\n",
            ">Predicted=187.161, Expected=203.040\n",
            ">Predicted=203.076, Expected=226.520\n",
            ">Predicted=226.313, Expected=236.610\n",
            ">Predicted=236.295, Expected=250.530\n",
            ">Predicted=250.068, Expected=230.820\n",
            ">Predicted=230.569, Expected=234.230\n",
            ">Predicted=233.943, Expected=261.150\n",
            ">Predicted=260.573, Expected=277.090\n",
            ">Predicted=276.341, Expected=308.630\n",
            ">Predicted=307.535, Expected=316.740\n",
            ">Predicted=315.561, Expected=314.940\n",
            ">Predicted=313.785, Expected=293.120\n",
            ">Predicted=292.210, Expected=303.230\n",
            ">Predicted=302.210, Expected=294.580\n",
            ">Predicted=293.662, Expected=304.490\n",
            ">Predicted=303.463, Expected=297.100\n",
            ">Predicted=296.162, Expected=271.190\n",
            ">Predicted=270.553, Expected=279.420\n",
            ">Predicted=278.690, Expected=271.850\n",
            ">Predicted=271.213, Expected=253.670\n",
            ">Predicted=253.247, Expected=252.690\n",
            ">Predicted=252.279, Expected=254.140\n",
            ">Predicted=253.714, Expected=238.220\n",
            ">Predicted=237.979, Expected=223.250\n",
            ">Predicted=223.178, Expected=259.050\n",
            ">Predicted=258.567, Expected=278.420\n",
            ">Predicted=277.710, Expected=289.760\n",
            ">Predicted=288.919, Expected=291.110\n",
            ">Predicted=290.257, Expected=287.960\n",
            ">Predicted=287.148, Expected=302.760\n",
            ">Predicted=301.774, Expected=300.190\n",
            ">Predicted=299.239, Expected=297.720\n",
            ">Predicted=296.802, Expected=311.500\n",
            ">Predicted=310.420, Expected=320.470\n",
            ">Predicted=319.286, Expected=330.810\n",
            ">Predicted=329.507, Expected=316.490\n",
            ">Predicted=315.360, Expected=320.550\n",
            ">Predicted=319.375, Expected=308.280\n",
            ">Predicted=307.259, Expected=339.010\n",
            ">Predicted=337.614, Expected=372.780\n",
            ">Predicted=370.988, Expected=369.250\n",
            ">Predicted=367.500, Expected=385.160\n",
            ">Predicted=383.233, Expected=360.730\n",
            ">Predicted=359.079, Expected=374.340\n",
            ">Predicted=372.532, Expected=384.220\n",
            ">Predicted=382.303, Expected=402.880\n",
            ">Predicted=400.758, Expected=392.050\n",
            ">Predicted=390.048, Expected=427.500\n",
            ">Predicted=425.126, Expected=414.500\n",
            ">Predicted=412.257, Expected=410.280\n",
            ">Predicted=408.083, Expected=412.950\n",
            ">Predicted=410.729, Expected=381.240\n",
            ">Predicted=379.368, Expected=380.470\n",
            ">Predicted=378.611, Expected=405.180\n",
            ">Predicted=403.029, Expected=409.190\n",
            ">Predicted=407.000, Expected=399.840\n",
            ">Predicted=397.758, Expected=400.960\n",
            ">Predicted=398.867, Expected=408.310\n",
            ">Predicted=406.138, Expected=378.160\n",
            ">Predicted=376.343, Expected=384.210\n",
            ">Predicted=382.321, Expected=350.120\n",
            ">Predicted=348.677, Expected=372.610\n",
            ">Predicted=370.861, Expected=367.090\n",
            ">Predicted=365.418, Expected=364.120\n",
            ">Predicted=362.492, Expected=357.690\n",
            ">Predicted=356.153, Expected=392.080\n",
            ">Predicted=390.076, Expected=413.190\n",
            ">Predicted=410.920, Expected=399.610\n",
            ">Predicted=397.513, Expected=394.900\n",
            ">Predicted=392.863, Expected=397.800\n",
            ">Predicted=395.730, Expected=416.790\n",
            ">Predicted=414.481, Expected=408.600\n",
            ">Predicted=406.394, Expected=344.630\n",
            ">Predicted=343.303, Expected=329.980\n",
            ">Predicted=328.883, Expected=330.020\n",
            ">Predicted=328.929, Expected=312.100\n",
            ">Predicted=311.298, Expected=328.440\n",
            ">Predicted=327.379, Expected=333.480\n",
            ">Predicted=332.343, Expected=330.830\n",
            ">Predicted=329.737, Expected=383.670\n",
            ">Predicted=381.743, Expected=416.320\n",
            ">Predicted=413.922, Expected=384.040\n",
            ">Predicted=382.099, Expected=353.980\n",
            ">Predicted=352.515, Expected=355.380\n",
            ">Predicted=353.886, Expected=340.090\n",
            ">Predicted=338.857, Expected=291.010\n",
            ">Predicted=290.637, Expected=270.560\n",
            ">Predicted=270.554, Expected=301.790\n",
            ">Predicted=301.226, Expected=308.820\n",
            ">Predicted=308.131, Expected=280.770\n",
            ">Predicted=280.589, Expected=274.390\n",
            ">Predicted=274.328, Expected=293.830\n",
            ">Predicted=293.414, Expected=273.130\n",
            ">Predicted=273.098, Expected=260.820\n",
            ">Predicted=261.011, Expected=265.200\n",
            ">Predicted=265.309, Expected=276.490\n",
            ">Predicted=276.398, Expected=302.570\n",
            ">Predicted=302.002, Expected=314.360\n",
            ">Predicted=313.576, Expected=310.500\n",
            ">Predicted=309.788, Expected=300.930\n",
            ">Predicted=300.399, Expected=307.780\n",
            ">Predicted=307.128, Expected=311.790\n",
            ">Predicted=311.063, Expected=305.680\n",
            ">Predicted=305.072, Expected=307.310\n",
            ">Predicted=306.674, Expected=306.910\n",
            ">Predicted=306.288, Expected=288.090\n",
            ">Predicted=287.818, Expected=290.600\n",
            ">Predicted=290.282, Expected=283.990\n",
            ">Predicted=283.800, Expected=297.570\n",
            ">Predicted=297.131, Expected=303.670\n",
            ">Predicted=303.116, Expected=301.310\n",
            ">Predicted=300.799, Expected=304.500\n",
            ">Predicted=303.933, Expected=304.400\n",
            ">Predicted=303.837, Expected=294.210\n",
            ">Predicted=293.844, Expected=303.600\n",
            ">Predicted=303.057, Expected=316.480\n",
            ">Predicted=315.694, Expected=314.950\n",
            ">Predicted=314.202, Expected=310.260\n",
            ">Predicted=309.600, Expected=324.090\n",
            ">Predicted=323.167, Expected=307.700\n",
            ">Predicted=307.096, Expected=313.120\n",
            ">Predicted=312.412, Expected=329.170\n",
            ">Predicted=328.159, Expected=324.510\n",
            ">Predicted=323.592, Expected=338.380\n",
            ">Predicted=337.199, Expected=327.710\n",
            ">Predicted=326.735, Expected=318.100\n",
            ">Predicted=317.311, Expected=314.020\n",
            ">Predicted=313.317, Expected=324.030\n",
            ">Predicted=323.141, Expected=324.230\n",
            ">Predicted=323.336, Expected=324.310\n",
            ">Predicted=323.425, Expected=333.210\n",
            ">Predicted=332.143, Expected=326.600\n",
            ">Predicted=325.666, Expected=318.190\n",
            ">Predicted=317.429, Expected=319.610\n",
            ">Predicted=318.825, Expected=331.810\n",
            ">Predicted=330.785, Expected=336.470\n",
            ">Predicted=335.354, Expected=312.800\n",
            ">Predicted=312.161, Expected=312.110\n",
            ">Predicted=311.488, Expected=308.380\n",
            ">Predicted=307.833, Expected=312.500\n",
            ">Predicted=311.869, Expected=315.110\n",
            ">Predicted=314.430, Expected=301.690\n",
            ">Predicted=301.291, Expected=278.300\n",
            ">Predicted=278.387, Expected=284.600\n",
            ">Predicted=284.565, Expected=262.510\n",
            ">Predicted=262.923, Expected=279.190\n",
            ">Predicted=279.260, Expected=274.090\n",
            ">Predicted=274.266, Expected=267.180\n",
            ">Predicted=267.501, Expected=263.780\n",
            ">Predicted=264.172, Expected=269.910\n",
            ">Predicted=270.171, Expected=254.500\n",
            ">Predicted=255.085, Expected=262.610\n",
            ">Predicted=263.022, Expected=232.010\n",
            ">Predicted=233.050, Expected=232.730\n",
            ">Predicted=233.756, Expected=238.900\n",
            ">Predicted=239.786, Expected=249.790\n",
            ">Predicted=250.441, Expected=256.500\n",
            ">Predicted=257.006, Expected=250.700\n",
            ">Predicted=251.325, Expected=244.800\n",
            ">Predicted=245.544, Expected=225.980\n",
            ">Predicted=227.102, Expected=203.190\n",
            ">Predicted=204.771, Expected=191.590\n",
            ">Predicted=193.383, Expected=185.100\n",
            ">Predicted=187.001, Expected=186.900\n",
            ">Predicted=188.744, Expected=202.900\n",
            ">Predicted=204.408, Expected=177.130\n",
            ">Predicted=179.120, Expected=166.960\n",
            ">Predicted=169.115, Expected=180.530\n",
            ">Predicted=182.401, Expected=179.900\n",
            ">Predicted=181.761, Expected=162.280\n",
            ">Predicted=164.433, Expected=169.500\n",
            ">Predicted=171.499, Expected=173.200\n",
            ">Predicted=175.102, Expected=174.180\n",
            ">Predicted=176.038, Expected=186.720\n",
            ">Predicted=188.327, Expected=193.280\n",
            ">Predicted=194.750, Expected=183.310\n",
            ">Predicted=184.939, Expected=180.680\n",
            ">Predicted=182.334, Expected=186.000\n",
            ">Predicted=187.539, Expected=206.480\n",
            ">Predicted=207.647, Expected=247.230\n",
            ">Predicted=247.666, Expected=270.000\n",
            ">Predicted=270.018, Expected=263.960\n",
            ">Predicted=264.084, Expected=268.090\n",
            ">Predicted=268.140, Expected=277.160\n",
            ">Predicted=277.043, Expected=252.300\n",
            ">Predicted=252.643, Expected=236.270\n",
            ">Predicted=236.902, Expected=262.880\n",
            ">Predicted=263.025, Expected=254.010\n",
            ">Predicted=254.318, Expected=266.520\n",
            ">Predicted=266.594, Expected=265.300\n",
            ">Predicted=265.396, Expected=266.510\n",
            ">Predicted=266.581, Expected=252.030\n",
            ">Predicted=252.368, Expected=230.550\n",
            ">Predicted=231.282, Expected=221.300\n",
            ">Predicted=222.186, Expected=211.200\n",
            ">Predicted=212.264, Expected=211.700\n",
            ">Predicted=212.742, Expected=209.310\n",
            ">Predicted=210.384, Expected=200.090\n",
            ">Predicted=201.310, Expected=213.370\n",
            ">Predicted=214.354, Expected=218.190\n",
            ">Predicted=219.081, Expected=209.130\n",
            ">Predicted=210.167, Expected=223.900\n",
            ">Predicted=224.676, Expected=238.610\n",
            ">Predicted=239.121, Expected=242.610\n",
            ">Predicted=243.047, Expected=226.600\n",
            ">Predicted=227.315, Expected=232.600\n",
            ">Predicted=233.205, Expected=210.300\n",
            ">Predicted=211.286, Expected=198.810\n",
            ">Predicted=199.982, Expected=171.380\n",
            ">Predicted=172.984, Expected=146.910\n",
            ">Predicted=148.875, Expected=158.500\n",
            ">Predicted=160.266, Expected=152.100\n",
            ">Predicted=153.935, Expected=151.920\n",
            ">Predicted=153.732, Expected=146.280\n",
            ">Predicted=148.151, Expected=144.520\n",
            ">Predicted=146.382, Expected=148.990\n",
            ">Predicted=150.765, Expected=153.700\n",
            ">Predicted=155.382, Expected=149.110\n",
            ">Predicted=150.833, Expected=157.790\n",
            ">Predicted=159.370, Expected=163.610\n",
            ">Predicted=165.088, Expected=151.350\n",
            ">Predicted=152.975, Expected=152.790\n",
            ">Predicted=154.370, Expected=166.990\n",
            ">Predicted=168.362, Expected=166.380\n",
            ">Predicted=167.739, Expected=173.390\n",
            ">Predicted=174.638, Expected=181.310\n",
            ">Predicted=182.437, Expected=183.710\n",
            "RMSE: 15.788\n"
          ]
        }
      ]
    },
    {
      "cell_type": "markdown",
      "metadata": {
        "id": "icoQ4MX5w9W6"
      },
      "source": [
        "## Saving the model and lambda value for further use:"
      ]
    },
    {
      "cell_type": "code",
      "metadata": {
        "id": "FZprBx_GexVt"
      },
      "source": [
        "X = series.values\n",
        "X = X.astype('float32')\n",
        "for i in range(len(X)):\n",
        "  # transform\n",
        "  transformed, lam = boxcox(X)\n",
        "  if lam < -5:\n",
        "    transformed, lam = X, 1\n",
        "# fit model\n",
        "model = ARIMA(transformed, order=(1,0,0))\n",
        "model_fit = model.fit(disp=0)\n",
        "# save model\n",
        "model_fit.save('model.pkl')\n",
        "np.save('model_lambda.npy', [lam])"
      ],
      "execution_count": 29,
      "outputs": []
    },
    {
      "cell_type": "markdown",
      "metadata": {
        "id": "R86qAqz6xEsQ"
      },
      "source": [
        "## Loading the saved model and forecasted the next output:"
      ]
    },
    {
      "cell_type": "code",
      "metadata": {
        "colab": {
          "base_uri": "https://localhost:8080/"
        },
        "id": "eXoj_QLlgYXV",
        "outputId": "23363530-c203-4b57-ac46-633d5da40363"
      },
      "source": [
        "from statsmodels.tsa.arima_model import ARIMAResults\n",
        "\n",
        "model_fit = ARIMAResults.load('model.pkl')\n",
        "lam = np.load('model_lambda.npy')\n",
        "yhat = model_fit.forecast()[0]\n",
        "yhat = boxcox_inverse(yhat, lam)\n",
        "print('Predicted: %.3f' % yhat)"
      ],
      "execution_count": 30,
      "outputs": [
        {
          "output_type": "stream",
          "name": "stdout",
          "text": [
            "Predicted: 184.787\n"
          ]
        }
      ]
    },
    {
      "cell_type": "markdown",
      "metadata": {
        "id": "C5FIQfguxLdk"
      },
      "source": [
        "## Finally, checking the performance of the model by predicting the outcomes of validation data that was set aside initially:"
      ]
    },
    {
      "cell_type": "code",
      "metadata": {
        "colab": {
          "base_uri": "https://localhost:8080/"
        },
        "id": "VuYO-Z0cj8QT",
        "outputId": "75dfa82d-6ef6-40a9-e9ba-80575f313c82"
      },
      "source": [
        "dataset = pd.read_csv('aave_dataset_final.csv', header=None, index_col=0, parse_dates=True, squeeze=True)\n",
        "X = dataset.values.astype('float32')\n",
        "history = [x for x in X]\n",
        "validation = pd.read_csv('aave_validation.csv', header=None, index_col=0, parse_dates=True,\n",
        "squeeze=True)\n",
        "y = validation.values.astype('float32')\n",
        "# load model\n",
        "model_fit = ARIMAResults.load('model.pkl')\n",
        "lam = np.load('model_lambda.npy')\n",
        "# make first prediction\n",
        "predictions = list()\n",
        "yhat = model_fit.forecast()[0]\n",
        "yhat = boxcox_inverse(yhat, lam)\n",
        "predictions.append(yhat)\n",
        "history.append(y[0])\n",
        "print('>Predicted=%.3f, Expected=%.3f' % (yhat, y[0]))\n",
        "# rolling forecasts\n",
        "for i in range(1, len(y)):\n",
        "  # transform\n",
        "  transformed, lam = boxcox(history)\n",
        "  if lam < -5:\n",
        "    transformed, lam = history, 1\n",
        "  # predict\n",
        "  model = ARIMA(transformed, order=(1,0,0))\n",
        "  model_fit = model.fit(disp=0)\n",
        "  yhat = model_fit.forecast()[0]\n",
        "  # invert transformed prediction\n",
        "  yhat = boxcox_inverse(yhat, lam)\n",
        "  predictions.append(yhat)\n",
        "  # observation\n",
        "  obs = y[i]\n",
        "  history.append(obs)\n",
        "  print('>Predicted=%.3f, Expected=%.3f' % (yhat, obs))\n",
        "# report performance\n",
        "rmse = sqrt(mean_squared_error(y, predictions))\n",
        "print('RMSE: %.3f' % rmse)"
      ],
      "execution_count": 32,
      "outputs": [
        {
          "output_type": "stream",
          "name": "stdout",
          "text": [
            ">Predicted=184.787, Expected=187.880\n",
            ">Predicted=188.890, Expected=175.380\n",
            ">Predicted=176.547, Expected=163.370\n",
            ">Predicted=164.684, Expected=162.110\n",
            ">Predicted=163.426, Expected=158.200\n",
            "RMSE: 8.940\n"
          ]
        }
      ]
    },
    {
      "cell_type": "markdown",
      "metadata": {
        "id": "OER8VzyTxZSs"
      },
      "source": [
        "RMSE value for the validation data is 8.940"
      ]
    },
    {
      "cell_type": "markdown",
      "metadata": {
        "id": "gDrU3TD4xekz"
      },
      "source": [
        "## Expected vs Predicted:"
      ]
    },
    {
      "cell_type": "code",
      "metadata": {
        "id": "RbIMdK8IqvdE",
        "colab": {
          "base_uri": "https://localhost:8080/",
          "height": 486
        },
        "outputId": "7418172e-3d0e-4c0f-defb-66d1e94dafc9"
      },
      "source": [
        "plt.figure(figsize=(20,8))\n",
        "plt.plot(y)\n",
        "plt.plot(predictions, color='red')\n",
        "plt.legend(['Expected','Predicted'])\n",
        "\n",
        "\n",
        "group_labels = ['Feb 10','Feb 11','Feb 12', 'Feb 13']\n",
        "\n",
        "x1 = [0,1,2,3,4]\n",
        "dates = ['Feb 09', 'Feb 10','Feb 11','Feb 12', 'Feb 13']\n",
        "\n",
        "plt.xticks(x1, dates, rotation=45)\n",
        "plt.show()"
      ],
      "execution_count": 42,
      "outputs": [
        {
          "output_type": "display_data",
          "data": {
            "image/png": "[encoded data removed]",
            "text/plain": [
              "<Figure size 1440x576 with 1 Axes>"
            ]
          },
          "metadata": {
            "needs_background": "light"
          }
        }
      ]
    },
    {
      "cell_type": "code",
      "metadata": {
        "id": "pqU2FoWNsuH-"
      },
      "source": [
        ""
      ],
      "execution_count": null,
      "outputs": []
    }
  ]
}